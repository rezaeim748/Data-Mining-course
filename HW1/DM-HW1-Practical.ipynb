{
 "cells": [
  {
   "cell_type": "markdown",
   "metadata": {},
   "source": [
    "<h1 align=center style=\"line-height:300%;font-family:vazir;color:#0099cc\">\n",
    "<font face=\"vazir\" color=\"#0099cc\">\n",
    "سری اول تمارین عملی درس داده کاوی\n",
    "</font>\n",
    "</h1>\n",
    "<h3 align=center style=\"line-height:100%;font-family:vazir;color:#0099cc\">\n",
    "استاد درس: دکتر مریم امیر مزلقانی\n",
    "</h3>\n",
    "<h5 align=center style=\"font-size: 20px;line-height:100%;font-family:vazir;color:#0099cc\">\n",
    "طراح تمرین عملی: پوریا جمیع  \n",
    "</h5>\n",
    "<p align=center style=\"font-size: 16;line-height:100%;font-family:vazir;color:#0099cc\">\n",
    "    <a href=\"mailto:Aut.DataMining.Fall@gmail.com\">Aut.DataMining.Fall@gmail.com</a>\n",
    "</p>\n"
   ]
  },
  {
   "cell_type": "markdown",
   "metadata": {},
   "source": [
    "<div dir=\"rtl\">\n",
    "<p align=right style=\"font-size: 16;line-height:100%;font-family:vazir;color:yellow\">\n",
    "لطفا خواسته های تمرین را در بخش خودش انجام دهید.\n",
    "</p>\n",
    "\n",
    "</div>"
   ]
  },
  {
   "cell_type": "markdown",
   "metadata": {},
   "source": [
    "<div dir=\"rtl\">\n",
    "<h3 align=right style=\"font-size: 16;line-height:100%;font-family:vazir;color:white\">\n",
    "خواندن کتابخانه ها\n",
    "</h3>\n",
    "</div>"
   ]
  },
  {
   "cell_type": "code",
   "execution_count": 70,
   "metadata": {},
   "outputs": [],
   "source": [
    "# TO-DO\n",
    "import numpy as np\n",
    "import pandas as pd\n",
    "import matplotlib.pyplot as plt\n",
    "import seaborn as sns\n",
    "import math\n",
    "from sklearn import model_selection, preprocessing, metrics\n",
    "from sklearn.model_selection import train_test_split\n",
    "from sklearn.preprocessing import StandardScaler\n",
    "import scipy\n",
    "import statsmodels.api as sm\n",
    "import tensorflow as tf\n",
    "import torch\n",
    "#import xgboost as xgb\n",
    "#import lightgbm as lgb\n",
    "#import nltk\n",
    "#import spacy\n"
   ]
  },
  {
   "cell_type": "markdown",
   "metadata": {},
   "source": [
    "<div dir=\"rtl\">\n",
    "<h3 align=right style=\"font-size: 16;line-height:100%;font-family:vazir;color:white\">\n",
    "دریافت مجموعه داده\n",
    "</h3>\n",
    "</div>"
   ]
  },
  {
   "cell_type": "code",
   "execution_count": 71,
   "metadata": {},
   "outputs": [
    {
     "name": "stdout",
     "output_type": "stream",
     "text": [
      "      ville ville_ascii      lat       lng         pays iso2 iso3  \\\n",
      "0  A Coruña    A Coruna  43.3667   -8.3833        Spain   ES  ESP   \n",
      "1  A Yun Pa    A Yun Pa  13.3939  108.4408      Vietnam   VN  VNM   \n",
      "2  Aabenraa    Aabenraa  55.0444    9.4181      Denmark   DK  DNK   \n",
      "3    Aachen      Aachen  50.7756    6.0836      Germany   DE  DEU   \n",
      "4    Aadorf      Aadorf  47.4939    8.8975  Switzerland   CH  CHE   \n",
      "\n",
      "                admin_nom capital  population            id  \n",
      "0                 Galicia   minor    245468.0  1.724417e+09  \n",
      "1                 Gia Lai   minor     53720.0  1.704946e+09  \n",
      "2              Syddanmark   minor     16401.0  1.208000e+09  \n",
      "3  North Rhine-Westphalia   minor    249070.0  1.276806e+09  \n",
      "4                 Thurgau     NaN      9036.0  1.756023e+09  \n"
     ]
    }
   ],
   "source": [
    "# load data\n",
    "\n",
    "# Specify the path to your Excel file\n",
    "file_path = \"worldcities.xlsx\"\n",
    "\n",
    "# Load the data into a Pandas DataFrame\n",
    "df = pd.read_excel(file_path)\n",
    "\n",
    "# Display the first few rows of the DataFrame to verify the data was loaded\n",
    "print(df.head())\n"
   ]
  },
  {
   "cell_type": "markdown",
   "metadata": {},
   "source": [
    "<div dir=\"rtl\">\n",
    "<h3 align=right style=\"font-size: 16;line-height:100%;font-family:vazir;color:white\">\n",
    "حذف و تغییر نام ستون ها\n",
    "</h3>\n",
    "\n",
    "<p dir=rtl style=\"direction: rtl;text-align: justify;line-height:200%;font-family:vazir;font-size:medium\">\n",
    "<font face=\"vazir\" size=3>\n",
    "ستون‌های\n",
    "<code>id</code>،\n",
    "<code>‌capital</code>،\n",
    "<code>ville_ascii</code> \n",
    "و \n",
    "<code>admin_nom</code>\n",
    " را از دیتافریم حذف نمایید.\n",
    "سپس نام ستون‌های \n",
    "<code>ville</code> \n",
    "و \n",
    "<code>pays</code>\n",
    " که به زبان فرانسوی نامگذاری شده‌اند را به ترتیب به \n",
    "<code>city</code> \n",
    "و \n",
    "<code>country</code>\n",
    "تغییر دهید.\n",
    "</font>\n",
    "</p>\n",
    "</div>"
   ]
  },
  {
   "cell_type": "code",
   "execution_count": 72,
   "metadata": {},
   "outputs": [
    {
     "name": "stdout",
     "output_type": "stream",
     "text": [
      "       city      lat       lng      country iso2 iso3  population\n",
      "0  A Coruña  43.3667   -8.3833        Spain   ES  ESP    245468.0\n",
      "1  A Yun Pa  13.3939  108.4408      Vietnam   VN  VNM     53720.0\n",
      "2  Aabenraa  55.0444    9.4181      Denmark   DK  DNK     16401.0\n",
      "3    Aachen  50.7756    6.0836      Germany   DE  DEU    249070.0\n",
      "4    Aadorf  47.4939    8.8975  Switzerland   CH  CHE      9036.0\n"
     ]
    }
   ],
   "source": [
    "# drop and rename\n",
    "\n",
    "# List of columns to be deleted\n",
    "columns_to_delete = [\"ville_ascii\", \"capital\", \"id\", \"admin_nom\"]\n",
    "\n",
    "# Delete the specified columns\n",
    "df = df.drop(columns=columns_to_delete)\n",
    "\n",
    "# Rename columns\n",
    "df = df.rename(columns={\"ville\": \"city\", \"pays\": \"country\"})\n",
    "\n",
    "# Display the updated DataFrame\n",
    "print(df.head())"
   ]
  },
  {
   "cell_type": "markdown",
   "metadata": {},
   "source": [
    "<div dir=\"rtl\">\n",
    "<h3 align=right style=\"font-size: 16;line-height:100%;font-family:vazir;color:white\">\n",
    "فیلتر کردن داده ها\n",
    "</h3>\n",
    "\n",
    "<p dir=rtl style=\"direction: rtl;text-align: justify;line-height:200%;font-family:vazir;font-size:medium\">\n",
    "شهر‌های با جمعیت اکیدا کمتر از ۱ میلیون نفر  را از دیتافریم حذف کرده و سپس نوع داده‌های ستون \n",
    "<code>population</code>\n",
    " را از \n",
    " <code>float</code>\n",
    "  به\n",
    "  <code>int32</code>\n",
    "   تبدیل نمایید.\n",
    "</p>\n",
    "</div>\n",
    "\n"
   ]
  },
  {
   "cell_type": "code",
   "execution_count": 73,
   "metadata": {},
   "outputs": [
    {
     "name": "stdout",
     "output_type": "stream",
     "text": [
      "          city      lat      lng               country iso2 iso3  population\n",
      "19         Aba   5.1167   7.3667               Nigeria   NG  NGA   1530000.0\n",
      "83     Abidjan   5.3167  -4.0333         Côte d'Ivoire   CI  CIV   4980000.0\n",
      "121  Abu Dhabi  24.4667  54.3667  United Arab Emirates   AE  ARE   1483000.0\n",
      "131      Abuja   9.0667   7.4833               Nigeria   NG  NGA   3770000.0\n",
      "169      Accra   5.5500  -0.2000                 Ghana   GH  GHA   2388000.0\n"
     ]
    }
   ],
   "source": [
    "# filter data\n",
    "\n",
    "# Filter cities with a population of 1 million or more\n",
    "df = df[df['population'] >= 1000000]\n",
    "\n",
    "# Display the updated DataFrame\n",
    "print(df.head())"
   ]
  },
  {
   "cell_type": "code",
   "execution_count": 74,
   "metadata": {},
   "outputs": [
    {
     "name": "stdout",
     "output_type": "stream",
     "text": [
      "          city      lat      lng               country iso2 iso3  population\n",
      "19         Aba   5.1167   7.3667               Nigeria   NG  NGA     1530000\n",
      "83     Abidjan   5.3167  -4.0333         Côte d'Ivoire   CI  CIV     4980000\n",
      "121  Abu Dhabi  24.4667  54.3667  United Arab Emirates   AE  ARE     1483000\n",
      "131      Abuja   9.0667   7.4833               Nigeria   NG  NGA     3770000\n",
      "169      Accra   5.5500  -0.2000                 Ghana   GH  GHA     2388000\n"
     ]
    }
   ],
   "source": [
    "# change type population\n",
    "\n",
    "# Convert 'population' column to int32\n",
    "df['population'] = df['population'].astype('int32')\n",
    "\n",
    "# Display the updated DataFrame\n",
    "print(df.head())"
   ]
  },
  {
   "cell_type": "markdown",
   "metadata": {},
   "source": [
    "<div dir=\"rtl\">\n",
    "<h3 align=right style=\"font-size: 16;line-height:100%;font-family:vazir;color:white\">\n",
    "کار با داده های تکراری و گم شده\n",
    "</h3>\n",
    "<p dir=rtl style=\"direction: rtl;text-align: justify;line-height:200%;font-family:vazir;font-size:medium\">\n",
    "نخست ردیف‌های تکراری دیتافریم و سپس ردیف‌هایی که بیش از یک مورد (۲ مورد و بیش‌تر) از اطلاعات آن‌ها گم‌شده است را از دیتافریم حذف نمایید.\n",
    "</p>\n",
    "</div>\n",
    "\n"
   ]
  },
  {
   "cell_type": "code",
   "execution_count": 75,
   "metadata": {},
   "outputs": [
    {
     "name": "stdout",
     "output_type": "stream",
     "text": [
      "          city      lat      lng               country iso2 iso3  population\n",
      "19         Aba   5.1167   7.3667               Nigeria   NG  NGA     1530000\n",
      "83     Abidjan   5.3167  -4.0333         Côte d'Ivoire   CI  CIV     4980000\n",
      "121  Abu Dhabi  24.4667  54.3667  United Arab Emirates   AE  ARE     1483000\n",
      "131      Abuja   9.0667   7.4833               Nigeria   NG  NGA     3770000\n",
      "169      Accra   5.5500  -0.2000                 Ghana   GH  GHA     2388000\n"
     ]
    }
   ],
   "source": [
    "# remove duplicated and missed values\n",
    "\n",
    "# Remove duplicated rows\n",
    "df = df.drop_duplicates()\n",
    "\n",
    "# Remove rows with two or more missing values\n",
    "df = df.dropna(thresh=2)  # Change '2' to the desired threshold\n",
    "\n",
    "# Display the updated DataFrame\n",
    "print(df.head())\n"
   ]
  },
  {
   "cell_type": "markdown",
   "metadata": {},
   "source": [
    "<div dir=\"rtl\">\n",
    "<h3 align=right style=\"font-size: 16;line-height:100%;font-family:vazir;color:white\">\n",
    "پر کردن داده های گم‌شده\n",
    "</h3>\n",
    "<p dir=rtl style=\"direction: rtl;text-align: justify;line-height:200%;font-family:vazir;font-size:medium\">\n",
    "برای مقادیر گم شده در ستون های \n",
    "<code>lat</code> \n",
    "و \n",
    "<code>lng</code>\n",
    "، \n",
    "میانگین همان ستون را در\n",
    "<ins><strong>همان کشور</strong></ins>\n",
    "پر کنید\n",
    "</p>\n",
    "</div>\n",
    "\n"
   ]
  },
  {
   "cell_type": "code",
   "execution_count": 76,
   "metadata": {},
   "outputs": [
    {
     "name": "stdout",
     "output_type": "stream",
     "text": [
      "mean_lat=26.285317861799214\n",
      "mean_lng=61.97795169270834\n",
      "          city      lat      lng               country iso2 iso3  population\n",
      "19         Aba   5.1167   7.3667               Nigeria   NG  NGA     1530000\n",
      "83     Abidjan   5.3167  -4.0333         Côte d'Ivoire   CI  CIV     4980000\n",
      "121  Abu Dhabi  24.4667  54.3667  United Arab Emirates   AE  ARE     1483000\n",
      "131      Abuja   9.0667   7.4833               Nigeria   NG  NGA     3770000\n",
      "169      Accra   5.5500  -0.2000                 Ghana   GH  GHA     2388000\n"
     ]
    }
   ],
   "source": [
    "# fill the missing values by their country \n",
    "\n",
    "# Calculate the mean of the 'lat' and 'lng' columns\n",
    "mean_lat = df['lat'].mean()\n",
    "mean_lng = df['lng'].mean()\n",
    "print(\"mean_lat=\" + str(mean_lat))\n",
    "print(\"mean_lng=\" + str(mean_lng)) \n",
    "\n",
    "# Fill missing values with the mean\n",
    "df['lat'].fillna(mean_lat, inplace=True)\n",
    "df['lng'].fillna(mean_lng, inplace=True)\n",
    "\n",
    "# Display the updated DataFrame\n",
    "print(df.head())\n",
    "\n",
    "#num_rows = df.shape[0]\n",
    "#print(f\"Number of rows in the DataFrame: {num_rows}\")"
   ]
  },
  {
   "cell_type": "markdown",
   "metadata": {},
   "source": [
    "<div dir=\"rtl\">\n",
    "<h3 align=right style=\"font-size: 16;line-height:100%;font-family:vazir;color:white\">\n",
    "محاسبه فاصله\n",
    "</h3>\n",
    "\n",
    "<p dir=rtl style=\"direction: rtl;text-align: justify;line-height:200%;font-family:vazir;font-size:medium\">\n",
    "<font face=\"vazir\" size=3>\n",
    "می‌خواهیم فاصله هر یک از شهر‌ها را از تهران حساب کنیم. برای این کار از فرمول هاورسین استفاده خواهیم کرد. این فرمول بر اساس طول جغرافیایی (Logitude) و عرض جغرافیایی (Latitude)  دو نقطه در سطح یک کره، فاصله آنها را حساب می‌کند.\n",
    "فرمول محاسبه فاصله هاورسین در ادامه آورده شده است. \n",
    "خواسته ما این است که اول با توجه به فرمول هاورسین و مقادیر طول و عرض جغرافیایی تهران که از دیتافریم استخراج می‌کنید تابعی بنویسید که فاصله هر شهر را از تهران محاسبه کند و سپس با استفاده از آن تابع ستون جدیدی در دیتافریم ایجاد کنید که فاصله هر شهر از تهران را داشته باشد\n",
    "</font>\n",
    "</p>\n",
    "\n",
    "</div>\n",
    "\n"
   ]
  },
  {
   "cell_type": "markdown",
   "metadata": {},
   "source": [
    "<p dir=rtl style=\"direction: rtl;text-align: justify;line-height:200%;font-family:vazir;font-size:medium\">\n",
    "<font face=\"vazir\" size=3>\n",
    "فرمول هاورسین:\n",
    "</font>\n",
    "</p>\n",
    "\n",
    "\n",
    "\n",
    "$\\lambda_1$, $\\lambda_2$ : longitudes of the two points in radians (lng)\n",
    "\n",
    "$\\varphi_1$, $\\varphi_2$ : the latitudes of the two points in radians (lat)\n",
    "\n",
    "$d$ : distance between two cities\n",
    "\n",
    "\n",
    "$$\n",
    "r = 6371\n",
    "$$\n",
    "$$\n",
    "a = \\sin^2\\left(\\frac{\\varphi_2-\\varphi_1}{2}\\right) + \\cos(\\varphi_1)\\cos(\\varphi_2)\\sin^2\\left(\\frac{\\lambda_2-\\lambda_1}{2}\\right)\n",
    "$$\n",
    "$$\n",
    "d = 2r \\operatorname{atan2}\\left(\\sqrt{a}, \\sqrt{1 -a}\\right)\n",
    "$$\n",
    "\n",
    "<p dir=rtl style=\"direction: rtl;text-align: justify;line-height:200%;font-family:vazir;font-size:medium\">\n",
    "<font face=\"vazir\" size=3>\n",
    "<code>تذکر:</code>\n",
    "دقت کنید که مقادیر طول و عرض جغرافیایی ثبت شده در دیتافریم به درجه می‌باشد و برای استفاده از رابطه فوق باید به رادیان تبدیل گردد. همچنین توجه کنید ملاک ارزیابی پاسخ شما فرمول فوق و طول و عرض جغرافیایی تهران که در همین دیتافریم درج شده، می‌باشد.\n",
    "</font>\n",
    "</p>"
   ]
  },
  {
   "cell_type": "code",
   "execution_count": 77,
   "metadata": {},
   "outputs": [
    {
     "data": {
      "text/plain": [
       "'\\ndef haversine(arglon1, arglat1, arglon2, arglat2):\\n\\n    # Coordinates in decimal degrees (e.g. 2.89078, 12.79797)\\n    lon1, lat1 = arglon1, arglat1\\n    lon2, lat2 = arglon2, arglat2\\n\\n    R = 6371000  # radius of Earth in meters\\n    phi_1 = math.radians(lat1)\\n    phi_2 = math.radians(lat2)\\n    lam_1 = math.radians(lon1)\\n    lam_2 = math.radians(lon2)\\n\\n    delta_phi = math.radians(lat2 - lat1)\\n    delta_lambda = math.radians(lon2 - lon1)\\n\\n    a = math.sin(delta_phi / 2.0) ** 2 + math.cos(phi_1) * math.cos(phi_2) * math.sin(delta_lambda / 2.0) ** 2\\n    \\n    c = 2 * math.atan2(math.sqrt(a), math.sqrt(1 - a))\\n\\n    meters = R * c  # output distance in meters\\n    km = meters / 1000.0  # output distance in kilometers\\n\\n    meters = round(meters, 3)\\n    km = round(km, 3)\\n\\n    return km\\n'"
      ]
     },
     "execution_count": 77,
     "metadata": {},
     "output_type": "execute_result"
    }
   ],
   "source": [
    "# distance function \n",
    "\n",
    "# Coordinates in decimal degrees\n",
    "def haversine(longitude1, latitude1, longitude2, latitude2):\n",
    "\n",
    "    lon1, lat1 = longitude1, latitude1\n",
    "    lon2, lat2 = longitude2, latitude2\n",
    "\n",
    "    # Radius of Earth in meters\n",
    "    earth_radius = 6371000\n",
    "\n",
    "    # Convert latitude and longitude from degrees to radians\n",
    "    phi1 = math.radians(lat1)\n",
    "    phi2 = math.radians(lat2)\n",
    "    lambda1 = math.radians(lon1)\n",
    "    lambda2 = math.radians(lon2)\n",
    "\n",
    "    # Calculate differences in latitude and longitude\n",
    "    delta_phi = math.radians(lat2 - lat1)\n",
    "    delta_lambda = math.radians(lon2 - lon1)\n",
    "\n",
    "    # Haversine formula\n",
    "    a = math.sin(delta_phi / 2.0) ** 2 + math.cos(phi1) * math.cos(phi2) * math.sin(delta_lambda / 2.0) ** 2\n",
    "    c = 2 * math.atan2(math.sqrt(a), math.sqrt(1 - a))\n",
    "\n",
    "    # Calculate distance in meters and kilometers\n",
    "    meters = earth_radius * c\n",
    "    kilometers = meters / 1000.0\n",
    "\n",
    "    # Round the distances to 3 decimal places\n",
    "    meters = round(meters, 3)\n",
    "    kilometers = round(kilometers, 3)\n",
    "\n",
    "    return kilometers\n",
    "\n"
   ]
  },
  {
   "cell_type": "code",
   "execution_count": 78,
   "metadata": {},
   "outputs": [
    {
     "name": "stdout",
     "output_type": "stream",
     "text": [
      "          city      lat      lng               country iso2 iso3  population  \\\n",
      "19         Aba   5.1167   7.3667               Nigeria   NG  NGA     1530000   \n",
      "83     Abidjan   5.3167  -4.0333         Côte d'Ivoire   CI  CIV     4980000   \n",
      "121  Abu Dhabi  24.4667  54.3667  United Arab Emirates   AE  ARE     1483000   \n",
      "131      Abuja   9.0667   7.4833               Nigeria   NG  NGA     3770000   \n",
      "169      Accra   5.5500  -0.2000                 Ghana   GH  GHA     2388000   \n",
      "\n",
      "     distance_to_tehran  \n",
      "19             5634.737  \n",
      "83             6575.534  \n",
      "121            1280.150  \n",
      "131            5331.674  \n",
      "169            6230.918  \n"
     ]
    }
   ],
   "source": [
    "# add a new column in DataFrame \n",
    "\n",
    "# Filter the DataFrame to extract the coordinates of Tehran\n",
    "tehran_row = df[(df['city'] == 'Tehran')]\n",
    "\n",
    "# Extract the latitude and longitude of Tehran\n",
    "tehran_lat = tehran_row['lat'].values[0]\n",
    "tehran_lng = tehran_row['lng'].values[0]\n",
    "\n",
    "# Calculate the distance from each city to Tehran and create a new column\n",
    "df['distance_to_tehran'] = df.apply(lambda row: haversine(row['lng'], row['lat'], tehran_lng, tehran_lat), axis=1)\n",
    "\n",
    "# Display the updated DataFrame\n",
    "print(df.head())"
   ]
  },
  {
   "cell_type": "markdown",
   "metadata": {},
   "source": [
    "<div dir=\"rtl\">\n",
    "<h3 align=right style=\"font-size: 16;line-height:100%;font-family:vazir;color:white\">\n",
    "مرتب سازی\n",
    "</h3>\n",
    "\n",
    "<p dir=rtl style=\"direction: rtl;text-align: justify;line-height:200%;font-family:vazir;font-size:medium\">\n",
    "<font face=\"vazir\" size=3>\n",
    "شهرها را بر اساس حروف الفبا به صورت صعودی مرتب نمایید و سپس بر اساس مقدار ستون \n",
    "<code>\n",
    "lat\n",
    "</code>\n",
    "به صورت نزولی مرتب کرده\n",
    "</font>\n",
    "</p>\n",
    "\n",
    "</div>\n",
    "\n"
   ]
  },
  {
   "cell_type": "code",
   "execution_count": 86,
   "metadata": {},
   "outputs": [
    {
     "name": "stdout",
     "output_type": "stream",
     "text": [
      "          city      lat      lng               country iso2 iso3  population  \\\n",
      "19         Aba   5.1167   7.3667               Nigeria   NG  NGA     1530000   \n",
      "83     Abidjan   5.3167  -4.0333         Côte d'Ivoire   CI  CIV     4980000   \n",
      "121  Abu Dhabi  24.4667  54.3667  United Arab Emirates   AE  ARE     1483000   \n",
      "131      Abuja   9.0667   7.4833               Nigeria   NG  NGA     3770000   \n",
      "169      Accra   5.5500  -0.2000                 Ghana   GH  GHA     2388000   \n",
      "\n",
      "     distance_to_tehran  \n",
      "19             5634.737  \n",
      "83             6575.534  \n",
      "121            1280.150  \n",
      "131            5331.674  \n",
      "169            6230.918  \n",
      "          city      lat      lng               country iso2 iso3  population  \\\n",
      "19         Aba   5.1167   7.3667               Nigeria   NG  NGA     1530000   \n",
      "83     Abidjan   5.3167  -4.0333         Côte d'Ivoire   CI  CIV     4980000   \n",
      "121  Abu Dhabi  24.4667  54.3667  United Arab Emirates   AE  ARE     1483000   \n",
      "131      Abuja   9.0667   7.4833               Nigeria   NG  NGA     3770000   \n",
      "169      Accra   5.5500  -0.2000                 Ghana   GH  GHA     2388000   \n",
      "\n",
      "     distance_to_tehran  \n",
      "19             5634.737  \n",
      "83             6575.534  \n",
      "121            1280.150  \n",
      "131            5331.674  \n",
      "169            6230.918  \n"
     ]
    }
   ],
   "source": [
    "# Sorting\n",
    "\n",
    "# Sort the DataFrame in ascending order based on the 'city' column\n",
    "df = df.sort_values(by='city', ascending=True)\n",
    "\n",
    "# Display the updated DataFrame\n",
    "print(df.head())\n",
    "\n",
    "# Sort the DataFrame in descending order based on the 'lat' column\n",
    "#df = df.sort_values(by='lat', ascending=False)\n",
    "\n",
    "# Display the updated DataFrame\n",
    "print(df.head())"
   ]
  },
  {
   "cell_type": "markdown",
   "metadata": {},
   "source": [
    "<div dir=\"rtl\">\n",
    "<h3 align=right style=\"font-size: 16;line-height:100%;font-family:vazir;color:white\">\n",
    "ذخیره سازی\n",
    "</h3>\n",
    "\n",
    "<p dir=rtl style=\"direction: rtl;text-align: justify;line-height:200%;font-family:vazir;font-size:medium\">\n",
    "<font face=\"vazir\" size=3>\n",
    "دیتافریم مرتب شده را بدون نمایه‌هایش (index) در فایلی به فرمت روبه‌رو ذخیره کنید\n",
    "\n",
    "<code>\n",
    "StudentNumber.csv\n",
    "</code>\n",
    "<p style=color:yellow>\n",
    "شماره دانشجویی خودتان را جایگزین StudentNumber کنید\n",
    "</p>\n",
    "</font>\n",
    "</p>\n",
    "\n",
    "</div>\n",
    "\n"
   ]
  },
  {
   "cell_type": "code",
   "execution_count": 89,
   "metadata": {},
   "outputs": [],
   "source": [
    "# Save CSV file\n",
    "\n",
    "# Save the final DataFrame as \"9831028.csv\" without including the index\n",
    "df.to_csv(\"9831028.csv\", index=False)"
   ]
  },
  {
   "cell_type": "markdown",
   "metadata": {},
   "source": [
    "<div align=center>\n",
    "    <img src=\"image-2.png\" alt=\"Alt text\">\n",
    "</div>\n",
    "<div align=center>\n",
    "    <p dir=\"rtl\">3 سطر اول فایل شما باید به صورت فوق باشد</p>\n",
    "</div>"
   ]
  },
  {
   "cell_type": "markdown",
   "metadata": {},
   "source": [
    "<div dir=\"rtl\">\n",
    "<h3 align=right style=\"font-size: 16;line-height:100%;font-family:vazir;color:white\">\n",
    "مصور سازی\n",
    "</h3>\n",
    "\n",
    "<p dir=rtl style=\"direction: rtl;text-align: justify;line-height:200%;font-family:vazir;font-size:medium\">\n",
    "<font face=\"vazir\" size=3>\n",
    "در این قسمت نموداری رسم کنید که فاصله 10 شهری که کمترین فاصله را از تهران دارند را در قالب یک bar chart نمایش دهد.\n",
    "</font>\n",
    "<br>\n",
    "نمودار خروجی خود را به فرمت روبه‌رو ذخیر کنید: \n",
    "<code> plot_1.png </code>\n",
    "</p>\n",
    "\n",
    "</div>\n",
    "\n"
   ]
  },
  {
   "cell_type": "code",
   "execution_count": 93,
   "metadata": {},
   "outputs": [
    {
     "data": {
      "image/png": "[encoded data removed]",
      "text/plain": [
       "<Figure size 720x432 with 1 Axes>"
      ]
     },
     "metadata": {
      "needs_background": "light"
     },
     "output_type": "display_data"
    }
   ],
   "source": [
    "# 10 Nearest Cities to Tehran\n",
    "\n",
    "# Sort the DataFrame by 'distance_to_tehran' in ascending order\n",
    "df = df.sort_values(by='distance_to_tehran', ascending=True)\n",
    "\n",
    "# Select the ten cities with the minimum distance to Tehran\n",
    "top_10_cities = df.head(10)\n",
    "\n",
    "# Create a bar chart\n",
    "plt.figure(figsize=(10, 6))\n",
    "plt.barh(top_10_cities['city'], top_10_cities['distance_to_tehran'])\n",
    "plt.xlabel('Distance to Tehran (km)')\n",
    "plt.title('Top 10 Cities with Minimum Distance to Tehran')\n",
    "\n",
    "# Save the plot as \"plot_1.png\"\n",
    "plt.savefig('plot_1.png')\n",
    "\n",
    "# Display the plot (optional)\n",
    "plt.show()"
   ]
  },
  {
   "cell_type": "markdown",
   "metadata": {},
   "source": [
    "<p dir=rtl style=\"direction: rtl;text-align: justify;line-height:200%;font-family:vazir;font-size:medium\">\n",
    "<font face=\"vazir\" size=3>\n",
    "در قسمت بعدی می‌خواهیم جمعیت 10 شهری که کمترین فاصله را با تهران دارند را رسم نمایید.\n",
    "<br>\n",
    "نمودار خروجی خود را به فرمت روبه‌رو ذخیر کنید: \n",
    "<code> plot_2.png </code>\n",
    "</font>\n",
    "</p>"
   ]
  },
  {
   "cell_type": "code",
   "execution_count": 94,
   "metadata": {},
   "outputs": [
    {
     "data": {
      "image/png": "[encoded data removed]",
      "text/plain": [
       "<Figure size 432x288 with 1 Axes>"
      ]
     },
     "metadata": {
      "needs_background": "light"
     },
     "output_type": "display_data"
    }
   ],
   "source": [
    "# Population of the 10 Nearest Cities to Tehran\n",
    "\n",
    "plt.barh(top_10_cities['city'], top_10_cities['population'])\n",
    "plt.xlabel('Population')\n",
    "plt.title('Population of Top 10 Cities with Minimum Distance to Tehran')\n",
    "\n",
    "# Save the plot as \"plot_2.png\"\n",
    "plt.savefig('plot_2.png')\n",
    "\n",
    "# Display the plot (optional)\n",
    "plt.show()"
   ]
  },
  {
   "cell_type": "markdown",
   "metadata": {},
   "source": [
    "<p dir=rtl style=\"direction: rtl;text-align: justify;line-height:200%;font-family:vazir;font-size:medium\">\n",
    "<font face=\"vazir\" size=3>\n",
    "در قسمت آخر میخواهیم نمودار Scatter ای رسم کنید که محور افقی آن Longtitude و محور عمودی آن Latitude باشد. \n",
    "</font>\n",
    "خروجی نهایی این نمودار با توجه به حجم بالای دیتاست بسیار جالب است.\n",
    "\n",
    "<br>\n",
    "نمودار خروجی خود را به فرمت روبه‌رو ذخیر کنید: \n",
    "<code> plot_3.png </code>\n",
    "</p>"
   ]
  },
  {
   "cell_type": "code",
   "execution_count": 95,
   "metadata": {},
   "outputs": [
    {
     "data": {
      "image/png": "[encoded data removed]",
      "text/plain": [
       "<Figure size 432x288 with 1 Axes>"
      ]
     },
     "metadata": {
      "needs_background": "light"
     },
     "output_type": "display_data"
    }
   ],
   "source": [
    "# City Latitudes and Longitudes\n",
    "\n",
    "plt.scatter(df['lng'], df['lat'], alpha=0.5)  # 'alpha' adjusts the transparency of the points\n",
    "plt.xlabel('Longitude')\n",
    "plt.ylabel('Latitude')\n",
    "plt.title('Scatter Chart of Longitude vs. Latitude')\n",
    "\n",
    "# Save the scatter plot as \"plot_3.png\"\n",
    "plt.savefig('plot_3.png')\n",
    "\n",
    "# Display the plot (optional)\n",
    "plt.show()"
   ]
  },
  {
   "cell_type": "markdown",
   "metadata": {},
   "source": [
    "<div dir=\"rtl\">\n",
    "<h3 align=right style=\"font-size: 16;line-height:100%;font-family:vazir;color:green\">\n",
    "بخش امتیازی\n",
    "</h3>\n",
    "\n",
    "<p dir=rtl style=\"direction: rtl;text-align: justify;line-height:200%;font-family:vazir;font-size:medium\">\n",
    "هر نوع مصور سازی دیگر و یا تحلیل و کار با داده در صورتی که به فهم بهتر داده کمک کند نمره امتیازی خواهد داشت.\n",
    "</p>\n",
    "\n",
    "</div>\n",
    "\n"
   ]
  }
 ],
 "metadata": {
  "kernelspec": {
   "display_name": "Python 3",
   "language": "python",
   "name": "python3"
  },
  "language_info": {
   "codemirror_mode": {
    "name": "ipython",
    "version": 3
   },
   "file_extension": ".py",
   "mimetype": "text/x-python",
   "name": "python",
   "nbconvert_exporter": "python",
   "pygments_lexer": "ipython3",
   "version": "3.9.0"
  },
  "orig_nbformat": 4
 },
 "nbformat": 4,
 "nbformat_minor": 2
}
